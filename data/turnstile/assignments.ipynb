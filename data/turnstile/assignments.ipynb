{
 "cells": [
  {
   "cell_type": "code",
   "execution_count": 18,
   "metadata": {},
   "outputs": [],
   "source": [
    "import json\n",
    "import math\n",
    "import os\n",
    "import random\n",
    "from pathlib import Path\n",
    "\n",
    "import numpy as np\n",
    "import pandas as pd"
   ]
  },
  {
   "cell_type": "code",
   "execution_count": 19,
   "metadata": {},
   "outputs": [],
   "source": [
    "random.seed(5)"
   ]
  },
  {
   "cell_type": "code",
   "execution_count": 20,
   "metadata": {},
   "outputs": [],
   "source": [
    "# https://stackoverflow.com/questions/312443/how-do-you-split-a-list-into-evenly-sized-chunks-in-python\n",
    "def chunks(l, n):\n",
    "    \"\"\"Yield successive n-sized chunks from list l.\"\"\"\n",
    "    for i in range(0, len(l), n):\n",
    "        yield l[i:i+n]"
   ]
  },
  {
   "cell_type": "code",
   "execution_count": 21,
   "metadata": {},
   "outputs": [],
   "source": [
    "paths = []\n",
    "with open('test.json') as json_file:\n",
    "    paths = json.load(json_file)\n",
    "\n",
    "list.sort(paths) # Ascending order"
   ]
  },
  {
   "cell_type": "code",
   "execution_count": 22,
   "metadata": {},
   "outputs": [],
   "source": [
    "# Number of files a node will read from at a time\n",
    "per = 4\n",
    "num_nodes = 8"
   ]
  },
  {
   "cell_type": "code",
   "execution_count": 23,
   "metadata": {},
   "outputs": [],
   "source": [
    "# assignment_non\n",
    "# 8 nodes, randomly chosen stations + wall street turnstiles that are deserted on the weekends\n",
    "non_assignment = []\n",
    "\n",
    "station_names = os.listdir(\"test\")\n",
    "random.shuffle(station_names)\n",
    "\n",
    "while len(non_assignment) < num_nodes - 1:\n",
    "    s = station_names.pop()\n",
    "    ts = [t for t in paths if s + \"/\" in t]\n",
    "    if(len(ts) >= per):\n",
    "        non_assignment.append([random.sample(ts, per)])\n",
    "\n",
    "non_assignment.append([\n",
    "    [\n",
    "        \"WALL_ST/R112-R027-02-00-00.feather\",\n",
    "        \"WALL_ST/R112-R027-02-00-01.feather\",\n",
    "        \"WALL_ST/R112-R027-02-00-02.feather\",\n",
    "        \"WALL_ST/R112-R027-02-00-03.feather\"\n",
    "    ]\n",
    "])\n",
    "\n",
    "with open('assignment_non.json', 'w') as outfile:\n",
    "    json.dump(non_assignment, outfile)"
   ]
  },
  {
   "cell_type": "code",
   "execution_count": 24,
   "metadata": {},
   "outputs": [],
   "source": [
    "# assignment_iid\n",
    "# 8 nodes, turnstiles of the non-IID assignment taken and shuffled\n",
    "iid_assignment = []\n",
    "\n",
    "for node in non_assignment:\n",
    "    for stations in node:\n",
    "        for s in stations:\n",
    "            iid_assignment.append(s)\n",
    "            \n",
    "random.shuffle(iid_assignment)\n",
    "iid_assignment = [ [l] for l in list(chunks(iid_assignment, per))]\n",
    "\n",
    "with open('assignment_iid.json', 'w') as outfile:\n",
    "    json.dump(iid_assignment, outfile)"
   ]
  }
 ],
 "metadata": {
  "kernelspec": {
   "display_name": "Python 3",
   "language": "python",
   "name": "python3"
  },
  "language_info": {
   "codemirror_mode": {
    "name": "ipython",
    "version": 3
   },
   "file_extension": ".py",
   "mimetype": "text/x-python",
   "name": "python",
   "nbconvert_exporter": "python",
   "pygments_lexer": "ipython3",
   "version": "3.7.6"
  }
 },
 "nbformat": 4,
 "nbformat_minor": 4
}
