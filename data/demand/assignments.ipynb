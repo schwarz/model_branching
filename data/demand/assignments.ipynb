{
 "cells": [
  {
   "cell_type": "code",
   "execution_count": 23,
   "metadata": {},
   "outputs": [],
   "source": [
    "import json\n",
    "import math\n",
    "import os\n",
    "import random\n",
    "from pathlib import Path\n",
    "\n",
    "import numpy as np\n",
    "import pandas as pd"
   ]
  },
  {
   "cell_type": "code",
   "execution_count": 24,
   "metadata": {},
   "outputs": [],
   "source": [
    "random.seed(4)"
   ]
  },
  {
   "cell_type": "code",
   "execution_count": 25,
   "metadata": {},
   "outputs": [],
   "source": [
    "# https://stackoverflow.com/questions/312443/how-do-you-split-a-list-into-evenly-sized-chunks-in-python\n",
    "def chunks(l, n):\n",
    "    \"\"\"Yield successive n-sized chunks from list l.\"\"\"\n",
    "    for i in range(0, len(l), n):\n",
    "        yield l[i:i+n]"
   ]
  },
  {
   "cell_type": "code",
   "execution_count": 26,
   "metadata": {},
   "outputs": [],
   "source": [
    "paths = []\n",
    "with open('test.json') as json_file:\n",
    "    paths = json.load(json_file)\n",
    "\n",
    "list.sort(paths) # Ascending order"
   ]
  },
  {
   "cell_type": "code",
   "execution_count": 27,
   "metadata": {},
   "outputs": [],
   "source": [
    "# Number of files a node will read from at a time\n",
    "per = 4\n",
    "num_nodes = 8"
   ]
  },
  {
   "cell_type": "code",
   "execution_count": 29,
   "metadata": {},
   "outputs": [],
   "source": [
    "# assignment_non\n",
    "# 8 nodes, 4 chosen by characteristics, rest randomly drawn\n",
    "non_assignment = []\n",
    "non_assignment.append([[\"household_031.feather\", \"household_127.feather\", \"household_175.feather\", \"household_197.feather\"]])\n",
    "non_assignment.append([[\"household_030.feather\", \"household_039.feather\", \"household_044.feather\", \"household_092.feather\"]])\n",
    "non_assignment.append([[\"household_009.feather\", \"household_019.feather\", \"household_161.feather\", \"household_195.feather\"]])\n",
    "non_assignment.append([[\"household_020.feather\", \"household_078.feather\", \"household_124.feather\", \"household_154.feather\"]])\n",
    "\n",
    "used = [\"031\", \"127\", \"175\", \"197\", \n",
    "        \"030\", \"039\", \"092\", \"044\", \n",
    "        \"009\", \"019\", \"161\", \"195\",\n",
    "        \"078\", \"124\", \"020\", \"154\"]\n",
    "\n",
    "remaining_paths = []\n",
    "for p in paths:\n",
    "    good = True\n",
    "    for u in used:\n",
    "        if u in p:\n",
    "            good = False\n",
    "            break\n",
    "    if good:\n",
    "        remaining_paths.append(p)\n",
    "\n",
    "assert len(remaining_paths) == (200 - 4 * 4)\n",
    "\n",
    "\n",
    "picked_households = list(\n",
    "    chunks(\n",
    "        random.sample(remaining_paths, (num_nodes - len(non_assignment)) * per * 1),\n",
    "        num_nodes - len(non_assignment)))\n",
    "\n",
    "i = 0\n",
    "while len(non_assignment) < num_nodes:\n",
    "    non_assignment.append(list(chunks(picked_households[i], per)))\n",
    "    i = i + 1\n",
    "\n",
    "with open('assignment_non.json', 'w') as outfile:\n",
    "    json.dump(non_assignment, outfile)"
   ]
  },
  {
   "cell_type": "code",
   "execution_count": 28,
   "metadata": {},
   "outputs": [],
   "source": [
    "# assignment_iid\n",
    "# 8 nodes, shuffle the non-IID assignment\n",
    "iid_assignment = []\n",
    "\n",
    "for node in non_assignment:\n",
    "    for hs in node:\n",
    "        for h in hs:\n",
    "            iid_assignment.append(h)\n",
    "            \n",
    "random.shuffle(iid_assignment)\n",
    "iid_assignment = [ [l] for l in list(chunks(iid_assignment, per))]\n",
    "\n",
    "with open('assignment_iid.json', 'w') as outfile:\n",
    "    json.dump(iid_assignment, outfile)"
   ]
  }
 ],
 "metadata": {
  "kernelspec": {
   "display_name": "Python 3",
   "language": "python",
   "name": "python3"
  },
  "language_info": {
   "codemirror_mode": {
    "name": "ipython",
    "version": 3
   },
   "file_extension": ".py",
   "mimetype": "text/x-python",
   "name": "python",
   "nbconvert_exporter": "python",
   "pygments_lexer": "ipython3",
   "version": "3.7.6"
  }
 },
 "nbformat": 4,
 "nbformat_minor": 4
}
