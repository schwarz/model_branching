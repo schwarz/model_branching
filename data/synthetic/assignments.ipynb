{
 "cells": [
  {
   "cell_type": "code",
   "execution_count": 1,
   "metadata": {},
   "outputs": [],
   "source": [
    "import json\n",
    "import math\n",
    "import os\n",
    "import random\n",
    "\n",
    "import numpy as np\n",
    "import pandas as pd"
   ]
  },
  {
   "cell_type": "code",
   "execution_count": 2,
   "metadata": {},
   "outputs": [],
   "source": [
    "random.seed(4)"
   ]
  },
  {
   "cell_type": "code",
   "execution_count": 3,
   "metadata": {},
   "outputs": [],
   "source": [
    "# https://stackoverflow.com/questions/312443/how-do-you-split-a-list-into-evenly-sized-chunks-in-python\n",
    "def chunks(l, n):\n",
    "    \"\"\"Yield successive n-sized chunks from list l.\"\"\"\n",
    "    for i in range(0, len(l), n):\n",
    "        yield l[i:i+n]"
   ]
  },
  {
   "cell_type": "code",
   "execution_count": 4,
   "metadata": {},
   "outputs": [],
   "source": [
    "paths = os.listdir(\"test\")\n",
    "random.shuffle(paths) "
   ]
  },
  {
   "cell_type": "code",
   "execution_count": 5,
   "metadata": {},
   "outputs": [],
   "source": [
    "def extract_info(filename):\n",
    "    nameonly = filename.split(\".\")[0]\n",
    "    parts = nameonly.split(\"_\")\n",
    "    num = parts[0]\n",
    "    mutation = False\n",
    "    t = \"\"\n",
    "    \n",
    "    if parts[-1] == \"halved\" or parts[-1] == \"zeroed\":\n",
    "        # Mutation present\n",
    "        if parts[-1] == \"zeroed\":\n",
    "            mutation = \"zeroed\"\n",
    "            t = \"_\".join(parts[1:-1])\n",
    "        else:\n",
    "            mutation = \"_\".join(parts[-2:])\n",
    "            t = \"_\".join(parts[1:-2])\n",
    "    else:\n",
    "        t = \"_\".join(parts[1:])\n",
    "    return (num, t, mutation)\n",
    "\n",
    "mutated = {}\n",
    "mutated_list = []\n",
    "regular = {}\n",
    "regular_list = []\n",
    "either = {}\n",
    "either_list = []\n",
    "\n",
    "for p in paths:\n",
    "    (n, t, m) = extract_info(p)\n",
    "    if t not in either:\n",
    "        either[t] = []\n",
    "    either[t].append(p)\n",
    "    either_list.append(p)\n",
    "    if m:\n",
    "        if t not in mutated:\n",
    "            mutated[t] = []\n",
    "        mutated[t].append(p)\n",
    "        mutated_list.append(p)\n",
    "    else:\n",
    "        if t not in regular:\n",
    "            regular[t] = []\n",
    "        regular[t].append(p)\n",
    "        regular_list.append(p)\n",
    "   "
   ]
  },
  {
   "cell_type": "code",
   "execution_count": 6,
   "metadata": {},
   "outputs": [],
   "source": [
    "# Number of files a node will read from at a time\n",
    "per = 5\n",
    "num_nodes = 8"
   ]
  },
  {
   "cell_type": "code",
   "execution_count": 7,
   "metadata": {},
   "outputs": [],
   "source": [
    "# assignment_iid\n",
    "# 8 IID nodes\n",
    "iid_assignment = list(chunks(either_list, 100))[:num_nodes]\n",
    "\n",
    "for i in range(len(iid_assignment)):\n",
    "    iid_assignment[i] = list(chunks(iid_assignment[i], per))\n",
    "\n",
    "with open('assignment_iid.json', 'w') as outfile:\n",
    "    json.dump(iid_assignment, outfile)"
   ]
  },
  {
   "cell_type": "code",
   "execution_count": 8,
   "metadata": {},
   "outputs": [],
   "source": [
    "# assignment_non\n",
    "# 8 nodes, very non-IID, each node has one kind of pattern only + mutations are bunched together\n",
    "non_assignment = []\n",
    "\n",
    "for k in regular.keys():\n",
    "    regs = list(chunks(regular[k], per))\n",
    "    muts = list(chunks(mutated[k], per))\n",
    "    mixed = regs + muts\n",
    "    random.shuffle(mixed)\n",
    "    non_assignment.append(mixed)\n",
    "\n",
    "non_assignment = non_assignment[:num_nodes]\n",
    "\n",
    "with open('assignment_non.json', 'w') as outfile:\n",
    "    json.dump(non_assignment, outfile)"
   ]
  }
 ],
 "metadata": {
  "kernelspec": {
   "display_name": "Python 3",
   "language": "python",
   "name": "python3"
  },
  "language_info": {
   "codemirror_mode": {
    "name": "ipython",
    "version": 3
   },
   "file_extension": ".py",
   "mimetype": "text/x-python",
   "name": "python",
   "nbconvert_exporter": "python",
   "pygments_lexer": "ipython3",
   "version": "3.7.6"
  }
 },
 "nbformat": 4,
 "nbformat_minor": 4
}
